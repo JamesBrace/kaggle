{
 "cells": [
  {
   "cell_type": "code",
   "execution_count": 2,
   "metadata": {
    "collapsed": true
   },
   "outputs": [
    {
     "name": "stdout",
     "output_type": "stream",
     "text": [
      "Getting and reshaping data\n"
     ]
    }
   ],
   "source": [
    "import numpy as np\n",
    "from skimage.feature import canny\n",
    "from scipy import ndimage as ndi\n",
    "import matplotlib.pyplot as plt\n",
    "from skimage import morphology\n",
    "from skimage import util\n",
    "\n",
    "# GET AND RESHAPE DATA\n",
    "# ====================================\n",
    "\n",
    "print(\"Getting and reshaping data\")\n",
    "\n",
    "x = np.loadtxt(\"data/train_x.csv\", delimiter=\",\")  # load from text\n",
    "y = np.loadtxt(\"data/train_y.csv\", delimiter=\",\")\n",
    "x = x.reshape(-1, 64, 64)  # reshape\n",
    "y = y.reshape(-1, 1)\n",
    "\n",
    "plt.imshow(x[0], cmap='gray')\n",
    "plt.show()"
   ]
  },
  {
   "cell_type": "code",
   "execution_count": null,
   "metadata": {},
   "outputs": [],
   "source": [
    "# CANNY IMAGE\n",
    "# ====================================\n",
    "\n",
    "print(\"Inverting images\")\n",
    "inverted_images = list(map(util.invert, x))\n",
    "\n",
    "fig, ax = plt.subplots(figsize=(64, 64))\n",
    "ax.imshow(inverted_images[0], cmap=plt.cm.gray, interpolation='nearest')\n",
    "ax.set_title('Inverted Image')\n",
    "ax.axis('off')\n",
    "ax.set_adjustable('box-forced')\n",
    "plt.show()\n",
    "\n",
    "print(\"Cannying inverted images\")\n",
    "cannied_images = list(map(canny, inverted_images))\n",
    "\n",
    "# Done for test purposes\n",
    "fig, ax = plt.subplots(figsize=(64, 64))\n",
    "ax.imshow(cannied_images[0], cmap=plt.cm.gray, interpolation='nearest')\n",
    "ax.set_title('Canny detector')\n",
    "ax.axis('off')\n",
    "ax.set_adjustable('box-forced')\n",
    "plt.show()"
   ]
  },
  {
   "cell_type": "code",
   "execution_count": null,
   "metadata": {},
   "outputs": [],
   "source": [
    "filled_images = list(map(ndi.binary_fill_holes, cannied_images))\n",
    "cannied_images = []\n",
    "\n",
    "plt.imshow(filled_images[0], cmap='gray')\n",
    "plt.show()\n",
    "\n",
    "fig, ax = plt.subplots(figsize=(64, 64))\n",
    "ax.imshow(filled_images[0], cmap=plt.cm.gray, interpolation='nearest')\n",
    "ax.set_title('Filling the holes')\n",
    "ax.axis('off')\n",
    "plt.show()"
   ]
  },
  {
   "cell_type": "code",
   "execution_count": null,
   "metadata": {},
   "outputs": [],
   "source": [
    "cleaned_images = morphology.remove_small_objects(filled_images, 21)\n",
    "filled_images = []\n",
    "\n",
    "fig, ax = plt.subplots(figsize=(64, 64))\n",
    "ax.imshow(cleaned_images[0], cmap=plt.cm.gray, interpolation='nearest')\n",
    "ax.set_title('Removed small objects')\n",
    "ax.axis('off')\n",
    "plt.show()"
   ]
  }
 ],
 "metadata": {
  "kernelspec": {
   "display_name": "Python 2",
   "language": "python",
   "name": "python2"
  },
  "language_info": {
   "codemirror_mode": {
    "name": "ipython",
    "version": 2
   },
   "file_extension": ".py",
   "mimetype": "text/x-python",
   "name": "python",
   "nbconvert_exporter": "python",
   "pygments_lexer": "ipython2",
   "version": "2.7.6"
  }
 },
 "nbformat": 4,
 "nbformat_minor": 0
}
